{
  "nbformat": 4,
  "nbformat_minor": 0,
  "metadata": {
    "colab": {
      "provenance": [],
      "gpuType": "T4"
    },
    "kernelspec": {
      "name": "python3",
      "display_name": "Python 3"
    },
    "language_info": {
      "name": "python"
    },
    "accelerator": "GPU"
  },
  "cells": [
    {
      "cell_type": "markdown",
      "source": [
        "# То, что удалось выцепить с cifar10 из беглых обзоров видео и приложенных материалов."
      ],
      "metadata": {
        "id": "_OhimV2Mt1qF"
      }
    },
    {
      "cell_type": "code",
      "execution_count": 6,
      "metadata": {
        "id": "BsBAhaL8tqPo"
      },
      "outputs": [],
      "source": [
        "from __future__ import print_function\n",
        "import keras # расскоментируйте эту строку, чтобы начать обучение\n",
        "from keras.datasets import cifar10\n",
        "from keras.preprocessing.image import ImageDataGenerator\n",
        "from keras.models import Sequential\n",
        "from keras.layers import Dense, Dropout, Activation, Flatten\n",
        "from keras.layers import Conv2D, MaxPooling2D\n",
        "import os\n",
        "import keras.optimizers"
      ]
    },
    {
      "cell_type": "code",
      "source": [
        "# установка параметров нейросети\n",
        "batch_size = 32\n",
        "num_classes = 10\n",
        "epochs = 1\n",
        "data_augmentation = True\n",
        "num_predictions = 20\n",
        "save_dir = os.path.join(os.getcwd(), 'saved_models')\n",
        "model_name = 'keras_cifar10_trained_model.h5'"
      ],
      "metadata": {
        "id": "Lz0Y7sBtt3Nk"
      },
      "execution_count": 2,
      "outputs": []
    },
    {
      "cell_type": "code",
      "source": [
        "# разделение тренировочной и тестовой выборки\n",
        "(x_train, y_train), (x_test, y_test) = cifar10.load_data()\n",
        "print('x_train shape:', x_train.shape)\n",
        "print(x_train.shape[0], 'тренировочные примеры')\n",
        "print(x_test.shape[0], 'тестовые примеры')"
      ],
      "metadata": {
        "id": "FA99sclJuA8j",
        "colab": {
          "base_uri": "https://localhost:8080/"
        },
        "outputId": "99caf351-d373-4fb7-d1d1-e5ba658c8aa8"
      },
      "execution_count": 3,
      "outputs": [
        {
          "output_type": "stream",
          "name": "stdout",
          "text": [
            "Downloading data from https://www.cs.toronto.edu/~kriz/cifar-10-python.tar.gz\n",
            "170498071/170498071 [==============================] - 3s 0us/step\n",
            "x_train shape: (50000, 32, 32, 3)\n",
            "50000 тренировочные примеры\n",
            "10000 тестовые примеры\n"
          ]
        }
      ]
    },
    {
      "cell_type": "code",
      "source": [
        "# преобразование матрицы чисел 0-9 в бинарную матрицу чисел 0-1\n",
        "y_train = keras.utils.to_categorical(y_train, num_classes)\n",
        "y_test = keras.utils.to_categorical(y_test, num_classes)"
      ],
      "metadata": {
        "id": "BjoI8MxTuD5r"
      },
      "execution_count": 4,
      "outputs": []
    },
    {
      "cell_type": "code",
      "source": [
        "# конфигурирование слоев нейросети\n",
        "model = Sequential()\n",
        "# слои нейросети отвественные за свертку и max-pooling\n",
        "model.add(Conv2D(32, (3, 3), padding='same', input_shape=x_train.shape[1:]))\n",
        "model.add(Activation('relu'))\n",
        "model.add(Conv2D(32, (3, 3)))\n",
        "model.add(Activation('relu'))\n",
        "model.add(MaxPooling2D(pool_size=(2, 2)))\n",
        "model.add(Dropout(0.25))\n",
        "model.add(Conv2D(64, (3, 3), padding='same'))\n",
        "model.add(Activation('relu'))\n",
        "model.add(Conv2D(64, (3, 3)))\n",
        "model.add(Activation('relu'))\n",
        "model.add(MaxPooling2D(pool_size=(2, 2)))\n",
        "model.add(Dropout(0.25))\n",
        "# полносвязные слои нейронной сети\n",
        "model.add(Flatten())\n",
        "model.add(Dense(512))\n",
        "model.add(Activation('relu'))\n",
        "model.add(Dropout(0.5))\n",
        "model.add(Dense(num_classes))\n",
        "model.add(Activation('softmax'))"
      ],
      "metadata": {
        "id": "EMIedQ7euHMk"
      },
      "execution_count": 5,
      "outputs": []
    },
    {
      "cell_type": "code",
      "source": [
        "# инициализация RMSprop optimizer\n",
        "opt = keras.optimizers.legacy.RMSprop(learning_rate=0.0001, decay=1e-6)"
      ],
      "metadata": {
        "id": "OiSf3FEZuKuU"
      },
      "execution_count": 6,
      "outputs": []
    },
    {
      "cell_type": "code",
      "source": [
        "# компиляция модели\n",
        "model.compile(loss='categorical_crossentropy', optimizer=opt, metrics=['accuracy'])\n",
        "x_train = x_train.astype('float32')\n",
        "x_test = x_test.astype('float32')\n",
        "x_train /= 255\n",
        "x_test /= 255"
      ],
      "metadata": {
        "id": "UOEvPQgGuNo8"
      },
      "execution_count": 7,
      "outputs": []
    },
    {
      "cell_type": "code",
      "source": [
        "if not data_augmentation:\n",
        "  print('Не используется data augmentation')\n",
        "  model.fit(x_train, y_train, batch_size=batch_size, epochs=epochs, validation_data=(x_test, y_test), shuffle=True)\n",
        "else:\n",
        "  print('Использование data augmentation в реальном времени')\n",
        "  # Препроцессинг и data augmentation в реальном времени:\n",
        "  datagen = ImageDataGenerator(\n",
        "  featurewise_center=False,\n",
        "  samplewise_center=False,\n",
        "  featurewise_std_normalization=False,\n",
        "  samplewise_std_normalization=False,\n",
        "  zca_whitening=False,\n",
        "  zca_epsilon=1e-06,\n",
        "  rotation_range=0,\n",
        "  width_shift_range=0.1,\n",
        "  height_shift_range=0.1,\n",
        "  shear_range=0.,\n",
        "  zoom_range=0.,\n",
        "  channel_shift_range=0.,\n",
        "  fill_mode='nearest',\n",
        "  cval=0.,\n",
        "  horizontal_flip=True,\n",
        "  vertical_flip=False,\n",
        "  rescale=None,\n",
        "  preprocessing_function=None,\n",
        "  data_format=None,\n",
        "  validation_split=0.0)"
      ],
      "metadata": {
        "id": "DutxLBgAuQlD",
        "colab": {
          "base_uri": "https://localhost:8080/"
        },
        "outputId": "4b8d6efe-87b2-4fa6-c1e0-fdf05c93ed40"
      },
      "execution_count": 8,
      "outputs": [
        {
          "output_type": "stream",
          "name": "stdout",
          "text": [
            "Использование data augmentation в реальном времени\n"
          ]
        }
      ]
    },
    {
      "cell_type": "code",
      "source": [
        "# запуск data augmentation через fit_generator\n",
        "model.fit_generator(datagen.flow(x_train, y_train,\n",
        "batch_size=batch_size),\n",
        "epochs=epochs,\n",
        "validation_data=(x_test, y_test),\n",
        "workers=4)"
      ],
      "metadata": {
        "id": "vuz6DI_ruU1s",
        "colab": {
          "base_uri": "https://localhost:8080/"
        },
        "outputId": "c0f56ea7-5d13-4437-b5a9-ce94e4534153"
      },
      "execution_count": 9,
      "outputs": [
        {
          "output_type": "stream",
          "name": "stderr",
          "text": [
            "<ipython-input-9-9feba6964c21>:2: UserWarning: `Model.fit_generator` is deprecated and will be removed in a future version. Please use `Model.fit`, which supports generators.\n",
            "  model.fit_generator(datagen.flow(x_train, y_train,\n"
          ]
        },
        {
          "output_type": "stream",
          "name": "stdout",
          "text": [
            "1563/1563 [==============================] - 47s 25ms/step - loss: 1.8497 - accuracy: 0.3150 - val_loss: 1.5293 - val_accuracy: 0.4370\n"
          ]
        },
        {
          "output_type": "execute_result",
          "data": {
            "text/plain": [
              "<keras.src.callbacks.History at 0x7b71060fcf70>"
            ]
          },
          "metadata": {},
          "execution_count": 9
        }
      ]
    },
    {
      "cell_type": "code",
      "source": [
        "# сохранение модели и весов\n",
        "if not os.path.isdir(save_dir):\n",
        "  os.makedirs(save_dir)\n",
        "model_path = os.path.join(save_dir, model_name)\n",
        "model.save(model_path)\n",
        "print('сохранить обученную модель как %s ' % model_path)"
      ],
      "metadata": {
        "id": "8d_Ur0FGuYs0",
        "colab": {
          "base_uri": "https://localhost:8080/"
        },
        "outputId": "79380eb7-8cdc-4a1d-dba5-60dfa5d89c68"
      },
      "execution_count": 10,
      "outputs": [
        {
          "output_type": "stream",
          "name": "stdout",
          "text": [
            "сохранить обученную модель как /content/saved_models/keras_cifar10_trained_model.h5 \n"
          ]
        },
        {
          "output_type": "stream",
          "name": "stderr",
          "text": [
            "/usr/local/lib/python3.10/dist-packages/keras/src/engine/training.py:3103: UserWarning: You are saving your model as an HDF5 file via `model.save()`. This file format is considered legacy. We recommend using instead the native Keras format, e.g. `model.save('my_model.keras')`.\n",
            "  saving_api.save_model(\n"
          ]
        }
      ]
    },
    {
      "cell_type": "code",
      "source": [
        "# проверка работы обученной модели\n",
        "scores = model.evaluate(x_test, y_test, verbose=1)\n",
        "print('Test loss:', scores[0])\n",
        "print('Test accuracy:', scores[1])"
      ],
      "metadata": {
        "id": "dzechiBVucNr",
        "colab": {
          "base_uri": "https://localhost:8080/"
        },
        "outputId": "0fbc8b2b-0adf-48e1-ae9f-42b8d5353dca"
      },
      "execution_count": 11,
      "outputs": [
        {
          "metadata": {
            "tags": null
          },
          "name": "stdout",
          "output_type": "stream",
          "text": [
            "313/313 [==============================] - 1s 3ms/step - loss: 1.5293 - accuracy: 0.4370\n",
            "Test loss: 1.5293173789978027\n",
            "Test accuracy: 0.43700000643730164\n"
          ]
        }
      ]
    },
    {
      "cell_type": "markdown",
      "source": [
        "Точность меньше 50% (43,7%)- \"посмотри, что предсказала сеть - и выбери наоборот!\"\n",
        "Конечно шутка, категорий то 10, но всё же... так себе точность."
      ],
      "metadata": {
        "id": "9K-bO-TBy14t"
      }
    },
    {
      "cell_type": "markdown",
      "source": [
        "## Обработка датасета cifar10 при помощи готовой нейронной сети ResNet50."
      ],
      "metadata": {
        "id": "cZAdMPcjuruK"
      }
    },
    {
      "cell_type": "code",
      "source": [
        "!pip install tensorflow-datasets"
      ],
      "metadata": {
        "id": "VLN3GwXnuspz",
        "colab": {
          "base_uri": "https://localhost:8080/"
        },
        "outputId": "16294354-26dd-4fea-f8f2-f32b92b574bb"
      },
      "execution_count": 16,
      "outputs": [
        {
          "output_type": "stream",
          "name": "stdout",
          "text": [
            "Requirement already satisfied: tensorflow-datasets in /usr/local/lib/python3.10/dist-packages (4.9.4)\n",
            "Requirement already satisfied: absl-py in /usr/local/lib/python3.10/dist-packages (from tensorflow-datasets) (1.4.0)\n",
            "Requirement already satisfied: click in /usr/local/lib/python3.10/dist-packages (from tensorflow-datasets) (8.1.7)\n",
            "Requirement already satisfied: dm-tree in /usr/local/lib/python3.10/dist-packages (from tensorflow-datasets) (0.1.8)\n",
            "Requirement already satisfied: etils[enp,epath,etree]>=0.9.0 in /usr/local/lib/python3.10/dist-packages (from tensorflow-datasets) (1.7.0)\n",
            "Requirement already satisfied: numpy in /usr/local/lib/python3.10/dist-packages (from tensorflow-datasets) (1.25.2)\n",
            "Requirement already satisfied: promise in /usr/local/lib/python3.10/dist-packages (from tensorflow-datasets) (2.3)\n",
            "Requirement already satisfied: protobuf>=3.20 in /usr/local/lib/python3.10/dist-packages (from tensorflow-datasets) (3.20.3)\n",
            "Requirement already satisfied: psutil in /usr/local/lib/python3.10/dist-packages (from tensorflow-datasets) (5.9.5)\n",
            "Requirement already satisfied: requests>=2.19.0 in /usr/local/lib/python3.10/dist-packages (from tensorflow-datasets) (2.31.0)\n",
            "Requirement already satisfied: tensorflow-metadata in /usr/local/lib/python3.10/dist-packages (from tensorflow-datasets) (1.14.0)\n",
            "Requirement already satisfied: termcolor in /usr/local/lib/python3.10/dist-packages (from tensorflow-datasets) (2.4.0)\n",
            "Requirement already satisfied: toml in /usr/local/lib/python3.10/dist-packages (from tensorflow-datasets) (0.10.2)\n",
            "Requirement already satisfied: tqdm in /usr/local/lib/python3.10/dist-packages (from tensorflow-datasets) (4.66.2)\n",
            "Requirement already satisfied: wrapt in /usr/local/lib/python3.10/dist-packages (from tensorflow-datasets) (1.14.1)\n",
            "Requirement already satisfied: array-record>=0.5.0 in /usr/local/lib/python3.10/dist-packages (from tensorflow-datasets) (0.5.0)\n",
            "Requirement already satisfied: fsspec in /usr/local/lib/python3.10/dist-packages (from etils[enp,epath,etree]>=0.9.0->tensorflow-datasets) (2023.6.0)\n",
            "Requirement already satisfied: importlib_resources in /usr/local/lib/python3.10/dist-packages (from etils[enp,epath,etree]>=0.9.0->tensorflow-datasets) (6.1.3)\n",
            "Requirement already satisfied: typing_extensions in /usr/local/lib/python3.10/dist-packages (from etils[enp,epath,etree]>=0.9.0->tensorflow-datasets) (4.10.0)\n",
            "Requirement already satisfied: zipp in /usr/local/lib/python3.10/dist-packages (from etils[enp,epath,etree]>=0.9.0->tensorflow-datasets) (3.17.0)\n",
            "Requirement already satisfied: charset-normalizer<4,>=2 in /usr/local/lib/python3.10/dist-packages (from requests>=2.19.0->tensorflow-datasets) (3.3.2)\n",
            "Requirement already satisfied: idna<4,>=2.5 in /usr/local/lib/python3.10/dist-packages (from requests>=2.19.0->tensorflow-datasets) (3.6)\n",
            "Requirement already satisfied: urllib3<3,>=1.21.1 in /usr/local/lib/python3.10/dist-packages (from requests>=2.19.0->tensorflow-datasets) (2.0.7)\n",
            "Requirement already satisfied: certifi>=2017.4.17 in /usr/local/lib/python3.10/dist-packages (from requests>=2.19.0->tensorflow-datasets) (2024.2.2)\n",
            "Requirement already satisfied: six in /usr/local/lib/python3.10/dist-packages (from promise->tensorflow-datasets) (1.16.0)\n",
            "Requirement already satisfied: googleapis-common-protos<2,>=1.52.0 in /usr/local/lib/python3.10/dist-packages (from tensorflow-metadata->tensorflow-datasets) (1.63.0)\n"
          ]
        }
      ]
    },
    {
      "cell_type": "markdown",
      "source": [],
      "metadata": {
        "id": "SpH2Ee2iuzH9"
      }
    },
    {
      "cell_type": "code",
      "source": [
        "# Установка параметров нейросети\n",
        "batch_size = 32\n",
        "num_classes = 1000\n",
        "epochs = 18"
      ],
      "metadata": {
        "id": "ikzYAN68uwp9"
      },
      "execution_count": 12,
      "outputs": []
    },
    {
      "cell_type": "code",
      "source": [
        "# Загрузка данных cifar10\n",
        "(x_train, y_train), (x_test, y_test) = keras.datasets.cifar10.load_data()\n",
        "# Создание объекта ImageDataGenerator для аугментации данных\n",
        "datagen = ImageDataGenerator(rescale=1.0/255.0)"
      ],
      "metadata": {
        "id": "7ZR-Gj_mu3b8"
      },
      "execution_count": 13,
      "outputs": []
    },
    {
      "cell_type": "code",
      "source": [
        "# Создание генераторов для обучающей и тестовой выборок\n",
        "train_generator = datagen.flow(x_train, y_train, batch_size=batch_size)\n",
        "test_generator = datagen.flow(x_test, y_test, batch_size=batch_size)"
      ],
      "metadata": {
        "id": "6Bl53fU6u6zU"
      },
      "execution_count": 14,
      "outputs": []
    },
    {
      "cell_type": "markdown",
      "source": [
        "Нехватало библиотек в оригинальном коде!!!"
      ],
      "metadata": {
        "id": "FqeHzXBc1wh8"
      }
    },
    {
      "cell_type": "code",
      "source": [
        "import tensorflow as tf\n",
        "import keras.applications.resnet50 as rs50\n",
        "from keras.layers import GlobalAveragePooling2D"
      ],
      "metadata": {
        "id": "DU42ExJg0XBt"
      },
      "execution_count": 7,
      "outputs": []
    },
    {
      "cell_type": "code",
      "source": [
        "# Создание предварительно обученной модели ResNet50\n",
        "base_model = rs50.ResNet50(weights='imagenet', include_top=False, input_shape=(224, 224, 3))"
      ],
      "metadata": {
        "id": "iFd29A1Pu9eU",
        "colab": {
          "base_uri": "https://localhost:8080/"
        },
        "outputId": "9259a797-54dc-482e-c6d8-f6076720a81e"
      },
      "execution_count": 21,
      "outputs": [
        {
          "output_type": "stream",
          "name": "stdout",
          "text": [
            "Downloading data from https://storage.googleapis.com/tensorflow/keras-applications/resnet/resnet50_weights_tf_dim_ordering_tf_kernels_notop.h5\n",
            "94765736/94765736 [==============================] - 0s 0us/step\n"
          ]
        }
      ]
    },
    {
      "cell_type": "code",
      "source": [
        "# Создание модели для Featurization\n",
        "model = Sequential()\n",
        "model.add(base_model)\n",
        "model.add(GlobalAveragePooling2D())\n",
        "model.add(Dense(num_classes, activation='softmax'))\n",
        "\n",
        "# Компиляция модели\n",
        "model.compile(loss='categorical_crossentropy',\n",
        "              optimizer='adam',\n",
        "              metrics=['accuracy'])"
      ],
      "metadata": {
        "id": "wvTZTacmvAj1"
      },
      "execution_count": 25,
      "outputs": []
    },
    {
      "cell_type": "code",
      "source": [
        "model.fit_generator(train_generator,\n",
        "                    steps_per_epoch=len(x_train) // batch_size,\n",
        "                    epochs=epochs,\n",
        "                    validation_data=test_generator,\n",
        "                    validation_steps=len(x_test) // batch_size)\n",
        "\n",
        "# Оценка производительности модели на тестовых данных\n",
        "score = model.evaluate_generator(test_generator, steps=len(x_test) // batch_size)\n",
        "print('Test loss:', score[0])\n",
        "print('Test accuracy:', score[1])"
      ],
      "metadata": {
        "id": "XJAx45uCvDnM",
        "colab": {
          "base_uri": "https://localhost:8080/"
        },
        "outputId": "4a62b40d-35d3-46f7-bcf3-ed3f2d3994da"
      },
      "execution_count": 26,
      "outputs": [
        {
          "output_type": "stream",
          "name": "stdout",
          "text": [
            "Epoch 1/18\n"
          ]
        },
        {
          "output_type": "stream",
          "name": "stderr",
          "text": [
            "<ipython-input-26-14e1ba4302b7>:1: UserWarning: `Model.fit_generator` is deprecated and will be removed in a future version. Please use `Model.fit`, which supports generators.\n",
            "  model.fit_generator(train_generator,\n"
          ]
        },
        {
          "output_type": "stream",
          "name": "stdout",
          "text": [
            "1562/1562 [==============================] - 108s 47ms/step - loss: 76998.1094 - accuracy: 0.0017 - val_loss: 183720.7812 - val_accuracy: 0.0000e+00\n",
            "Epoch 2/18\n",
            "1562/1562 [==============================] - 71s 46ms/step - loss: 147198.4531 - accuracy: 0.0000e+00 - val_loss: 192265.5312 - val_accuracy: 0.0000e+00\n",
            "Epoch 3/18\n",
            "1562/1562 [==============================] - 70s 45ms/step - loss: 204020.2812 - accuracy: 0.0000e+00 - val_loss: 204373.2969 - val_accuracy: 0.0000e+00\n",
            "Epoch 4/18\n",
            "1562/1562 [==============================] - 78s 50ms/step - loss: 252449.3438 - accuracy: 0.0000e+00 - val_loss: 271690.3438 - val_accuracy: 0.0000e+00\n",
            "Epoch 5/18\n",
            "1562/1562 [==============================] - 82s 53ms/step - loss: 300791.5312 - accuracy: 0.0000e+00 - val_loss: 358588.8750 - val_accuracy: 0.0000e+00\n",
            "Epoch 6/18\n",
            "1562/1562 [==============================] - 77s 49ms/step - loss: 352438.5000 - accuracy: 0.0000e+00 - val_loss: 302927.3750 - val_accuracy: 0.0000e+00\n",
            "Epoch 7/18\n",
            "1562/1562 [==============================] - 75s 48ms/step - loss: 393425.8750 - accuracy: 0.0000e+00 - val_loss: 363972.9375 - val_accuracy: 0.0000e+00\n",
            "Epoch 8/18\n",
            "1562/1562 [==============================] - 73s 47ms/step - loss: 435715.9375 - accuracy: 0.0000e+00 - val_loss: 495835.7500 - val_accuracy: 0.0000e+00\n",
            "Epoch 9/18\n",
            "1562/1562 [==============================] - 72s 46ms/step - loss: 475014.9375 - accuracy: 0.0000e+00 - val_loss: 599864.1250 - val_accuracy: 0.0000e+00\n",
            "Epoch 10/18\n",
            "1562/1562 [==============================] - 72s 46ms/step - loss: 513368.5000 - accuracy: 0.0000e+00 - val_loss: 513208.3438 - val_accuracy: 0.0000e+00\n",
            "Epoch 11/18\n",
            "1562/1562 [==============================] - 75s 48ms/step - loss: 547820.1875 - accuracy: 0.0000e+00 - val_loss: 590924.8750 - val_accuracy: 0.0000e+00\n",
            "Epoch 12/18\n",
            "1562/1562 [==============================] - 71s 46ms/step - loss: 593519.8125 - accuracy: 0.0000e+00 - val_loss: 540887.8750 - val_accuracy: 0.0000e+00\n",
            "Epoch 13/18\n",
            "1562/1562 [==============================] - 86s 55ms/step - loss: 627187.6875 - accuracy: 0.0000e+00 - val_loss: 540901.4375 - val_accuracy: 0.0000e+00\n",
            "Epoch 14/18\n",
            "1562/1562 [==============================] - 81s 52ms/step - loss: 655634.3750 - accuracy: 0.0000e+00 - val_loss: 611391.4375 - val_accuracy: 0.0000e+00\n",
            "Epoch 15/18\n",
            "1562/1562 [==============================] - 78s 50ms/step - loss: 693601.0625 - accuracy: 0.0000e+00 - val_loss: 697554.3750 - val_accuracy: 0.0000e+00\n",
            "Epoch 16/18\n",
            "1562/1562 [==============================] - 77s 49ms/step - loss: 717851.1875 - accuracy: 0.0000e+00 - val_loss: 693601.3750 - val_accuracy: 0.0000e+00\n",
            "Epoch 17/18\n",
            "1562/1562 [==============================] - 71s 46ms/step - loss: 745102.0000 - accuracy: 0.0000e+00 - val_loss: 610999.0000 - val_accuracy: 0.0000e+00\n",
            "Epoch 18/18\n",
            "1562/1562 [==============================] - 72s 46ms/step - loss: 765110.3750 - accuracy: 0.0000e+00 - val_loss: 721303.5625 - val_accuracy: 0.0000e+00\n"
          ]
        },
        {
          "output_type": "stream",
          "name": "stderr",
          "text": [
            "<ipython-input-26-14e1ba4302b7>:8: UserWarning: `Model.evaluate_generator` is deprecated and will be removed in a future version. Please use `Model.evaluate`, which supports generators.\n",
            "  score = model.evaluate_generator(test_generator, steps=len(x_test) // batch_size)\n"
          ]
        },
        {
          "output_type": "stream",
          "name": "stdout",
          "text": [
            "Test loss: 721572.875\n",
            "Test accuracy: 0.0\n"
          ]
        }
      ]
    },
    {
      "cell_type": "markdown",
      "source": [
        "Полный отстой!!! Вообще ничему не обучилась."
      ],
      "metadata": {
        "id": "nXC-Ak3B8V31"
      }
    },
    {
      "cell_type": "markdown",
      "source": [
        "ТОТ же код, что и вышеописанный, с изменением количества эпох, батчей, оптимизатора, ошибки."
      ],
      "metadata": {
        "id": "hcgvP5nMvK8U"
      }
    },
    {
      "cell_type": "code",
      "source": [
        "# Установка параметров нейросети\n",
        "batch_size = 64\n",
        "num_classes = 1000\n",
        "epochs = 4"
      ],
      "metadata": {
        "id": "TyU4gSujvLt0"
      },
      "execution_count": 27,
      "outputs": []
    },
    {
      "cell_type": "code",
      "source": [
        "# Создание модели для Featurization\n",
        "model = Sequential()\n",
        "model.add(base_model)\n",
        "model.add(GlobalAveragePooling2D())\n",
        "model.add(Dense(num_classes, activation='softmax'))\n",
        "\n",
        "# Компиляция модели\n",
        "model.compile(loss='sparse_categorical_crossentropy',\n",
        "              optimizer='SGD',\n",
        "              metrics=['accuracy'])"
      ],
      "metadata": {
        "id": "fZYg3F9wvGfE"
      },
      "execution_count": 28,
      "outputs": []
    },
    {
      "cell_type": "code",
      "source": [
        "model.fit_generator(train_generator,\n",
        "                    steps_per_epoch=len(x_train) // batch_size,\n",
        "                    epochs=epochs,\n",
        "                    validation_data=test_generator,\n",
        "                    validation_steps=len(x_test) // batch_size)"
      ],
      "metadata": {
        "id": "aDNfbXUfvSB0",
        "colab": {
          "base_uri": "https://localhost:8080/"
        },
        "outputId": "f441764a-a21b-4639-918a-7afede354a73"
      },
      "execution_count": 29,
      "outputs": [
        {
          "output_type": "stream",
          "name": "stdout",
          "text": [
            "Epoch 1/4\n"
          ]
        },
        {
          "output_type": "stream",
          "name": "stderr",
          "text": [
            "<ipython-input-29-8d3e895eb60f>:1: UserWarning: `Model.fit_generator` is deprecated and will be removed in a future version. Please use `Model.fit`, which supports generators.\n",
            "  model.fit_generator(train_generator,\n"
          ]
        },
        {
          "output_type": "stream",
          "name": "stdout",
          "text": [
            "781/781 [==============================] - 48s 42ms/step - loss: 105483.0391 - accuracy: 0.0923 - val_loss: 261256.1562 - val_accuracy: 0.0000e+00\n",
            "Epoch 2/4\n",
            "781/781 [==============================] - 32s 42ms/step - loss: 60370.5977 - accuracy: 0.0973 - val_loss: 316405.4375 - val_accuracy: 0.0000e+00\n",
            "Epoch 3/4\n",
            "781/781 [==============================] - 33s 42ms/step - loss: 43384.8438 - accuracy: 0.0994 - val_loss: 23503.3281 - val_accuracy: 0.0000e+00\n",
            "Epoch 4/4\n",
            "781/781 [==============================] - 32s 40ms/step - loss: 35080.6875 - accuracy: 0.0992 - val_loss: 36847.4414 - val_accuracy: 0.4447\n"
          ]
        },
        {
          "output_type": "execute_result",
          "data": {
            "text/plain": [
              "<keras.src.callbacks.History at 0x7b710a3361a0>"
            ]
          },
          "metadata": {},
          "execution_count": 29
        }
      ]
    },
    {
      "cell_type": "code",
      "source": [
        "# Оценка производительности модели на тестовых данных\n",
        "score = model.evaluate_generator(test_generator, steps=len(x_test) // batch_size)\n",
        "print('Test loss:', score[0])\n",
        "print('Test accuracy:', score[1])"
      ],
      "metadata": {
        "id": "OqxXHmtNvU4r",
        "colab": {
          "base_uri": "https://localhost:8080/"
        },
        "outputId": "39da0c1f-984a-4a40-e13b-7d9b475e067d"
      },
      "execution_count": 30,
      "outputs": [
        {
          "output_type": "stream",
          "name": "stderr",
          "text": [
            "<ipython-input-30-e5744145ecd9>:2: UserWarning: `Model.evaluate_generator` is deprecated and will be removed in a future version. Please use `Model.evaluate`, which supports generators.\n",
            "  score = model.evaluate_generator(test_generator, steps=len(x_test) // batch_size)\n"
          ]
        },
        {
          "output_type": "stream",
          "name": "stdout",
          "text": [
            "Test loss: 36367.8203125\n",
            "Test accuracy: 0.4328926205635071\n"
          ]
        }
      ]
    },
    {
      "cell_type": "markdown",
      "source": [
        "При сравнительно равной (и достаточно низкой) точности, уровень потерь у первой модели значительно ниже. И скорость работы первой сети значительно выше.<br>\n",
        "Есть подозрения, что низкая точность, и долгая работа второй и третьей моделей связана с количеством классов num_classes = 1000. В описании сказано, что их 10. Правда третья модель как-то всё же вычленила что-то на последней( четвёртой) эпохе. Возможно, был шанс повысить точность увеличением эпох - потери на обучении падали, а на тесте, хоть и огромные, но не росли явно."
      ],
      "metadata": {
        "id": "1MVKq1K9ASLg"
      }
    },
    {
      "cell_type": "markdown",
      "source": [
        "Исходя из анализа, можно сделать вывод о сложности выработки четких правил установки соотношения параметров для достижения наилучших показателей при использовании нейросетей. Также, можно сказать, что сети ResNet50 и ResNet50V2, по всей видимости, не очень подходят для обработки датасета Cifar10 (у обеих схожие результаты на низком уровне). Лучшие показатели, тем не менее, были обеспечены при использовании функции loss - sparse_categorical_crossentropy (без данной функции модель вообще ничего не могла классифицировать), optimizer - SGD и batch_size = 64. Также сеть фактически не обучалась и метрика accuracy колебалась на протяжении 25 эпох (при различных параметрах сети) от 9 до 15 % и, по сути, зависела от конкретного фрагмента датасета направляемого на тест."
      ],
      "metadata": {
        "id": "mABIW3IXvcuc"
      }
    },
    {
      "cell_type": "markdown",
      "source": [
        "# 2. Опишите в анализе, какие изменения необходимо было бы внести в получившуюся нейронную сеть, если бы ей нужно было работать не с cifar10, а с MNIST, CIFAR100 и IMAGENET"
      ],
      "metadata": {
        "id": "_3TxE--X5w0v"
      }
    },
    {
      "cell_type": "markdown",
      "source": [
        "Для адаптации модели для MNIST надо уменьшить заявленный размер входных картинок, переделать на \"односцетную\" модель (1 вместо 3), можно существенно сократить количество слоёв - точность останется достаточно высокой.<br>\n",
        "Для CIFAR-100 и ImageNet увеличить количество категорий, а для ImageNet ещё и размер картинок."
      ],
      "metadata": {
        "id": "vH2ovSHy6Yd4"
      }
    },
    {
      "cell_type": "markdown",
      "source": [
        "### Для адаптации нейронной сети для работы с другими наборами данных, такими как MNIST, CIFAR100 и ImageNet, можно внести следующие изменения:\n",
        "1. Выбор архитектуры: В зависимости от сложности задачи и характеристик набора данных, необходимо выбрать соответствующую архитектуру нейронной сети. Например, для MNIST можно использовать более простую архитектуру, такую как LeNet, в то время как для CIFAR-100 или ImageNet потребуются более сложные архитектуры, такие как ResNet или VGG.\n",
        "2. Количество и размер слоев: Количество и размер слоев в нейронной сети также могут быть изменены в зависимости от сложности набора данных. Для более сложных наборов данных, таких как CIFAR-100 или ImageNet, может потребоваться большее количество слоев и более высокая степень абстракции, тогда как для MNIST можно обойтись меньшим количеством слоёв.\n",
        "3. Размер входного представления: Размер входного представления также должен быть изменен в соответствии с размером и форматом входных данных. Например, размер изображения в MNIST составляет 28x28 пикселей, в то время как размер изображения в CIFAR-100 составляет 32x32 пикселей, а в ImageNet - около 224x224 пикселей.\n",
        "4. Объем обучающих данных: Объем обучающего набора также может влиять на точность и производительность модели. Для сложных наборов данных может потребоваться больше обучающих данных для обеспечения более точной модели.\n",
        "5. Параметр регуляризации: Параметр регуляризации, такой как L1- или L2-регуляризация, также может быть изменен для предотвращения переобучения модели. Увеличение параметра регуляризации может привести к более общей модели, но с меньшей точностью.\n",
        "5. Оптимизация гиперпараметров: Гиперпараметры, такие как скорость обучения и коэффициент регуляризации, должны быть оптимизированы для достижения наилучшей точности модели. Это может потребовать проведения нескольких экспериментов с различными значениями гиперпараметров и выбора тех, которые обеспечивают наилучшие результаты.<br>\n",
        "В целом, адаптация нейронной сети к другим наборам данных требует некоторой итерации и экспериментации с различными архитектурами, гиперпараметрами и параметрами регуляризации для достижения оптимальных результатов."
      ],
      "metadata": {
        "id": "ebf5Lzow3uY1"
      }
    },
    {
      "cell_type": "markdown",
      "source": [
        "## А теперь попробуем улучшить результат!"
      ],
      "metadata": {
        "id": "JHI9MORQDQc-"
      }
    },
    {
      "cell_type": "code",
      "source": [
        "# установка параметров нейросети\n",
        "data_augmentation = True\n",
        "num_predictions = 20\n",
        "# разделение тренировочной и тестовой выборки\n",
        "(x_train, y_train), (x_test, y_test) = cifar10.load_data()\n",
        "print('x_train shape:', x_train.shape)\n",
        "print(x_train.shape[0], 'тренировочные примеры')\n",
        "print(x_test.shape[0], 'тестовые примеры')\n",
        "# преобразование матрицы чисел 0-9 в бинарную матрицу чисел 0-1\n",
        "num_classes = 10\n",
        "y_train = keras.utils.to_categorical(y_train, num_classes)\n",
        "y_test = keras.utils.to_categorical(y_test, num_classes)"
      ],
      "metadata": {
        "colab": {
          "base_uri": "https://localhost:8080/"
        },
        "id": "4s2pN8FmBPhm",
        "outputId": "c12cd551-d8e4-4a95-e5e6-f1bf7150bf9c"
      },
      "execution_count": 8,
      "outputs": [
        {
          "output_type": "stream",
          "name": "stdout",
          "text": [
            "Downloading data from https://www.cs.toronto.edu/~kriz/cifar-10-python.tar.gz\n",
            "170498071/170498071 [==============================] - 4s 0us/step\n",
            "x_train shape: (50000, 32, 32, 3)\n",
            "50000 тренировочные примеры\n",
            "10000 тестовые примеры\n"
          ]
        }
      ]
    },
    {
      "cell_type": "code",
      "source": [
        "# конфигурирование слоев нейросети\n",
        "model = Sequential()\n",
        "# слои нейросети отвественные за свертку и max-pooling\n",
        "model.add(Conv2D(32, (3, 3), padding='same', input_shape=x_train.shape[1:]))\n",
        "model.add(Activation('relu'))\n",
        "model.add(Conv2D(32, (3, 3)))\n",
        "model.add(Activation('relu'))\n",
        "model.add(MaxPooling2D(pool_size=(2, 2)))\n",
        "model.add(Dropout(0.25))\n",
        "model.add(Conv2D(64, (3, 3), padding='same'))\n",
        "model.add(Activation('relu'))\n",
        "model.add(Conv2D(64, (3, 3)))\n",
        "model.add(Activation('relu'))\n",
        "model.add(MaxPooling2D(pool_size=(2, 2)))\n",
        "model.add(Dropout(0.25))\n",
        "# полносвязные слои нейронной сети\n",
        "model.add(Flatten())\n",
        "model.add(Dense(512))\n",
        "model.add(Activation('relu'))\n",
        "model.add(Dropout(0.5))\n",
        "model.add(Dense(num_classes))\n",
        "model.add(Activation('softmax'))"
      ],
      "metadata": {
        "id": "Orui8X0-Bh8V"
      },
      "execution_count": 9,
      "outputs": []
    },
    {
      "cell_type": "code",
      "source": [
        "# инициализация RMSprop optimizer\n",
        "opt = keras.optimizers.legacy.RMSprop(learning_rate=0.0001, decay=1e-6)"
      ],
      "metadata": {
        "id": "gq7oPYE0Bosl"
      },
      "execution_count": 10,
      "outputs": []
    },
    {
      "cell_type": "code",
      "source": [
        "# компиляция модели\n",
        "model.compile(loss='categorical_crossentropy', optimizer=opt, metrics=['accuracy'])\n",
        "x_train = x_train.astype('float32')\n",
        "x_test = x_test.astype('float32')\n",
        "x_train /= 255\n",
        "x_test /= 255"
      ],
      "metadata": {
        "id": "G2zixvwGBtlV"
      },
      "execution_count": 11,
      "outputs": []
    },
    {
      "cell_type": "code",
      "source": [
        "batch_size = 64\n",
        "epochs = 10\n",
        "if not data_augmentation:\n",
        "  print('Не используется data augmentation')\n",
        "  model.fit(x_train, y_train, batch_size=batch_size, epochs=epochs, validation_data=(x_test, y_test), shuffle=True)\n",
        "else:\n",
        "  print('Использование data augmentation в реальном времени')\n",
        "  # Препроцессинг и data augmentation в реальном времени:\n",
        "  datagen = ImageDataGenerator(\n",
        "  featurewise_center=False,\n",
        "  samplewise_center=False,\n",
        "  featurewise_std_normalization=False,\n",
        "  samplewise_std_normalization=False,\n",
        "  zca_whitening=False,\n",
        "  zca_epsilon=1e-06,\n",
        "  rotation_range=0,\n",
        "  width_shift_range=0.1,\n",
        "  height_shift_range=0.1,\n",
        "  shear_range=0.,\n",
        "  zoom_range=0.,\n",
        "  channel_shift_range=0.,\n",
        "  fill_mode='nearest',\n",
        "  cval=0.,\n",
        "  horizontal_flip=True,\n",
        "  vertical_flip=False,\n",
        "  rescale=None,\n",
        "  preprocessing_function=None,\n",
        "  data_format=None,\n",
        "  validation_split=0.0)"
      ],
      "metadata": {
        "colab": {
          "base_uri": "https://localhost:8080/"
        },
        "id": "QjbSoEC3BybM",
        "outputId": "2a63d204-993b-4ebf-9f3d-2071b06cfa8b"
      },
      "execution_count": 14,
      "outputs": [
        {
          "output_type": "stream",
          "name": "stdout",
          "text": [
            "Использование data augmentation в реальном времени\n"
          ]
        }
      ]
    },
    {
      "cell_type": "code",
      "source": [
        "# запуск data augmentation через fit_generator\n",
        "model.fit_generator(datagen.flow(x_train, y_train,\n",
        "batch_size=batch_size),\n",
        "epochs=epochs,\n",
        "validation_data=(x_test, y_test),\n",
        "workers=4)"
      ],
      "metadata": {
        "colab": {
          "base_uri": "https://localhost:8080/"
        },
        "id": "bptiR9pxB36n",
        "outputId": "2433ebda-60a4-42d7-c707-1e2f1056a2ca"
      },
      "execution_count": 15,
      "outputs": [
        {
          "output_type": "stream",
          "name": "stdout",
          "text": [
            "Epoch 1/10\n"
          ]
        },
        {
          "output_type": "stream",
          "name": "stderr",
          "text": [
            "<ipython-input-15-9feba6964c21>:2: UserWarning: `Model.fit_generator` is deprecated and will be removed in a future version. Please use `Model.fit`, which supports generators.\n",
            "  model.fit_generator(datagen.flow(x_train, y_train,\n"
          ]
        },
        {
          "output_type": "stream",
          "name": "stdout",
          "text": [
            "782/782 [==============================] - 271s 346ms/step - loss: 1.6391 - accuracy: 0.4019 - val_loss: 1.4515 - val_accuracy: 0.4756\n",
            "Epoch 2/10\n",
            "782/782 [==============================] - 269s 344ms/step - loss: 1.5364 - accuracy: 0.4440 - val_loss: 1.4014 - val_accuracy: 0.5027\n",
            "Epoch 3/10\n",
            "782/782 [==============================] - 303s 388ms/step - loss: 1.4703 - accuracy: 0.4690 - val_loss: 1.3047 - val_accuracy: 0.5326\n",
            "Epoch 4/10\n",
            "782/782 [==============================] - 301s 385ms/step - loss: 1.4116 - accuracy: 0.4884 - val_loss: 1.2963 - val_accuracy: 0.5356\n",
            "Epoch 5/10\n",
            "782/782 [==============================] - 263s 336ms/step - loss: 1.3639 - accuracy: 0.5108 - val_loss: 1.2654 - val_accuracy: 0.5497\n",
            "Epoch 6/10\n",
            "782/782 [==============================] - 283s 361ms/step - loss: 1.3175 - accuracy: 0.5306 - val_loss: 1.1782 - val_accuracy: 0.5819\n",
            "Epoch 7/10\n",
            "782/782 [==============================] - 274s 350ms/step - loss: 1.2810 - accuracy: 0.5446 - val_loss: 1.1642 - val_accuracy: 0.5904\n",
            "Epoch 8/10\n",
            "782/782 [==============================] - 283s 361ms/step - loss: 1.2411 - accuracy: 0.5593 - val_loss: 1.1313 - val_accuracy: 0.6040\n",
            "Epoch 9/10\n",
            "782/782 [==============================] - 269s 344ms/step - loss: 1.2083 - accuracy: 0.5702 - val_loss: 1.0527 - val_accuracy: 0.6303\n",
            "Epoch 10/10\n",
            "782/782 [==============================] - 279s 356ms/step - loss: 1.1750 - accuracy: 0.5823 - val_loss: 1.1188 - val_accuracy: 0.6092\n"
          ]
        },
        {
          "output_type": "execute_result",
          "data": {
            "text/plain": [
              "<keras.src.callbacks.History at 0x7bb2b47e5c00>"
            ]
          },
          "metadata": {},
          "execution_count": 15
        }
      ]
    },
    {
      "cell_type": "code",
      "source": [
        "# проверка работы обученной модели\n",
        "scores = model.evaluate(x_test, y_test, verbose=1)\n",
        "print('Test loss:', scores[0])\n",
        "print('Test accuracy:', scores[1])"
      ],
      "metadata": {
        "colab": {
          "base_uri": "https://localhost:8080/"
        },
        "id": "5jfnUBznCGCW",
        "outputId": "e86e312b-486b-460a-dcd4-a7d08fa861dc"
      },
      "execution_count": 16,
      "outputs": [
        {
          "output_type": "stream",
          "name": "stdout",
          "text": [
            "313/313 [==============================] - 13s 40ms/step - loss: 1.1188 - accuracy: 0.6092\n",
            "Test loss: 1.1188431978225708\n",
            "Test accuracy: 0.6092000007629395\n"
          ]
        }
      ]
    },
    {
      "cell_type": "code",
      "source": [
        "model.save('model_best.h5')"
      ],
      "metadata": {
        "colab": {
          "base_uri": "https://localhost:8080/"
        },
        "id": "1XJcpDghCRa_",
        "outputId": "558d2091-4447-4fbf-c02f-96d3133161da"
      },
      "execution_count": 17,
      "outputs": [
        {
          "output_type": "stream",
          "name": "stderr",
          "text": [
            "/usr/local/lib/python3.10/dist-packages/keras/src/engine/training.py:3103: UserWarning: You are saving your model as an HDF5 file via `model.save()`. This file format is considered legacy. We recommend using instead the native Keras format, e.g. `model.save('my_model.keras')`.\n",
            "  saving_api.save_model(\n"
          ]
        }
      ]
    },
    {
      "cell_type": "markdown",
      "source": [
        "Удалось существенно повысить точность (примерно в 1,5 раза) и на столько же снизить потери. Десятая эпоха - была лишней.<br>\n",
        "Есть ещё идеи для экспериментов с разными моделями, но время с графическим движком кочилось, а часами ждать результаты..."
      ],
      "metadata": {
        "id": "jgoYx0m_bnNI"
      }
    },
    {
      "cell_type": "code",
      "source": [
        "import matplotlib.pyplot as plt\n",
        "plt.imshow(x_train[i])\n",
        "plt.show()"
      ],
      "metadata": {
        "colab": {
          "base_uri": "https://localhost:8080/",
          "height": 430
        },
        "id": "2paJa55dfv6p",
        "outputId": "8c32fd89-f80e-426a-fbba-c89e532a819f"
      },
      "execution_count": 30,
      "outputs": [
        {
          "output_type": "display_data",
          "data": {
            "text/plain": [
              "<Figure size 640x480 with 1 Axes>"
            ],
            "image/png": "[encoded data removed]"
          },
          "metadata": {}
        }
      ]
    },
    {
      "cell_type": "code",
      "source": [
        "for i in range(10):\n",
        "    plt.subplot(1,10,i+1)\n",
        "    plt.imshow(x_train[i])\n",
        "plt.show()"
      ],
      "metadata": {
        "colab": {
          "base_uri": "https://localhost:8080/",
          "height": 107
        },
        "id": "qE1EixWOd6gk",
        "outputId": "077ef3e2-6b47-4a8a-d2b5-53f4e12868e2"
      },
      "execution_count": 29,
      "outputs": [
        {
          "output_type": "display_data",
          "data": {
            "text/plain": [
              "<Figure size 640x480 with 10 Axes>"
            ],
            "image/png": "[encoded data removed]"
          },
          "metadata": {}
        }
      ]
    },
    {
      "cell_type": "markdown",
      "source": [
        "Что тут вообще можно распознать?"
      ],
      "metadata": {
        "id": "22wOk9pMgM2n"
      }
    }
  ]
}